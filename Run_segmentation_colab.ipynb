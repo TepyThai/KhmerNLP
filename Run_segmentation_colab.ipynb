{
 "cells": [
  {
   "cell_type": "markdown",
   "metadata": {
    "colab_type": "text",
    "id": "view-in-github"
   },
   "source": [
    "<a href=\"https://colab.research.google.com/github/rinabuoy/KhmerNLP/blob/master/Run_segmentation_colab.ipynb\" target=\"_parent\"><img src=\"https://colab.research.google.com/assets/colab-badge.svg\" alt=\"Open In Colab\"/></a>"
   ]
  },
  {
   "cell_type": "code",
   "execution_count": 1,
   "metadata": {
    "colab": {
     "base_uri": "https://localhost:8080/",
     "height": 134
    },
    "colab_type": "code",
    "id": "jfJaMvXitusB",
    "outputId": "fab591bb-317b-4830-f1eb-9e0ec6830bc4"
   },
   "outputs": [
    {
     "name": "stdout",
     "output_type": "stream",
     "text": [
      "Cloning into 'KhmerNLP'...\n",
      "remote: Enumerating objects: 26, done.\u001b[K\n",
      "remote: Counting objects:   3% (1/26)\u001b[K\r",
      "remote: Counting objects:   7% (2/26)\u001b[K\r",
      "remote: Counting objects:  11% (3/26)\u001b[K\r",
      "remote: Counting objects:  15% (4/26)\u001b[K\r",
      "remote: Counting objects:  19% (5/26)\u001b[K\r",
      "remote: Counting objects:  23% (6/26)\u001b[K\r",
      "remote: Counting objects:  26% (7/26)\u001b[K\r",
      "remote: Counting objects:  30% (8/26)\u001b[K\r",
      "remote: Counting objects:  34% (9/26)\u001b[K\r",
      "remote: Counting objects:  38% (10/26)\u001b[K\r",
      "remote: Counting objects:  42% (11/26)\u001b[K\r",
      "remote: Counting objects:  46% (12/26)\u001b[K\r",
      "remote: Counting objects:  50% (13/26)\u001b[K\r",
      "remote: Counting objects:  53% (14/26)\u001b[K\r",
      "remote: Counting objects:  57% (15/26)\u001b[K\r",
      "remote: Counting objects:  61% (16/26)\u001b[K\r",
      "remote: Counting objects:  65% (17/26)\u001b[K\r",
      "remote: Counting objects:  69% (18/26)\u001b[K\r",
      "remote: Counting objects:  73% (19/26)\u001b[K\r",
      "remote: Counting objects:  76% (20/26)\u001b[K\r",
      "remote: Counting objects:  80% (21/26)\u001b[K\r",
      "remote: Counting objects:  84% (22/26)\u001b[K\r",
      "remote: Counting objects:  88% (23/26)\u001b[K\r",
      "remote: Counting objects:  92% (24/26)\u001b[K\r",
      "remote: Counting objects:  96% (25/26)\u001b[K\r",
      "remote: Counting objects: 100% (26/26)\u001b[K\r",
      "remote: Counting objects: 100% (26/26), done.\u001b[K\n",
      "remote: Compressing objects: 100% (17/17), done.\u001b[K\n",
      "remote: Total 215 (delta 9), reused 20 (delta 9), pack-reused 189\u001b[K\n",
      "Receiving objects: 100% (215/215), 378.34 KiB | 1.41 MiB/s, done.\n",
      "Resolving deltas: 100% (79/79), done.\n"
     ]
    }
   ],
   "source": [
    "! git clone https://github.com/rinabuoy/KhmerNLP"
   ]
  },
  {
   "cell_type": "code",
   "execution_count": 2,
   "metadata": {
    "colab": {
     "base_uri": "https://localhost:8080/",
     "height": 34
    },
    "colab_type": "code",
    "id": "yXermZhSuTvu",
    "outputId": "a58f0b90-fdc3-4fc4-a19e-4e881af62663"
   },
   "outputs": [
    {
     "name": "stdout",
     "output_type": "stream",
     "text": [
      "/content/KhmerNLP\n"
     ]
    }
   ],
   "source": [
    "%cd KhmerNLP"
   ]
  },
  {
   "cell_type": "code",
   "execution_count": 5,
   "metadata": {
    "colab": {
     "base_uri": "https://localhost:8080/",
     "height": 205
    },
    "colab_type": "code",
    "id": "EvI6wJtVAL1F",
    "outputId": "bb11152d-5677-4983-a694-200620b1ebc5"
   },
   "outputs": [
    {
     "name": "stdout",
     "output_type": "stream",
     "text": [
      "Collecting sklearn_crfsuite\n",
      "  Downloading https://files.pythonhosted.org/packages/25/74/5b7befa513482e6dee1f3dd68171a6c9dfc14c0eaa00f885ffeba54fe9b0/sklearn_crfsuite-0.3.6-py2.py3-none-any.whl\n",
      "Requirement already satisfied: six in /usr/local/lib/python3.6/dist-packages (from sklearn_crfsuite) (1.15.0)\n",
      "Requirement already satisfied: tabulate in /usr/local/lib/python3.6/dist-packages (from sklearn_crfsuite) (0.8.7)\n",
      "Requirement already satisfied: tqdm>=2.0 in /usr/local/lib/python3.6/dist-packages (from sklearn_crfsuite) (4.41.1)\n",
      "Collecting python-crfsuite>=0.8.3\n",
      "\u001b[?25l  Downloading https://files.pythonhosted.org/packages/95/99/869dde6dbf3e0d07a013c8eebfb0a3d30776334e0097f8432b631a9a3a19/python_crfsuite-0.9.7-cp36-cp36m-manylinux1_x86_64.whl (743kB)\n",
      "\u001b[K     |████████████████████████████████| 747kB 10.7MB/s \n",
      "\u001b[?25hInstalling collected packages: python-crfsuite, sklearn-crfsuite\n",
      "Successfully installed python-crfsuite-0.9.7 sklearn-crfsuite-0.3.6\n"
     ]
    }
   ],
   "source": [
    "!pip install sklearn_crfsuite"
   ]
  },
  {
   "cell_type": "code",
   "execution_count": 6,
   "metadata": {
    "colab": {
     "base_uri": "https://localhost:8080/",
     "height": 67
    },
    "colab_type": "code",
    "id": "DelI0WVlu3YP",
    "outputId": "fec83582-f98f-4857-8cd7-4d38f8725593"
   },
   "outputs": [
    {
     "name": "stdout",
     "output_type": "stream",
     "text": [
      "Inference on GPU!\n",
      "Segmention by LSTM:  ចំណែក-ជើង-ទី-២-នឹង-ត្រូវ-ធ្វើឡើង-ឯ-ប្រទេស-កាតា-៕\n",
      "Segmention by CRF:  ចំណែកជើង-ទី-២-នឹង-ត្រូវ-ធ្វើឡើង-ឯ-ប្រទេស-កាតា-៕\n"
     ]
    }
   ],
   "source": [
    "from khmerwordsegmentor import KhmerWordSegmentor\n",
    "seg = KhmerWordSegmentor()\n",
    "ts = \"ចំណែកជើងទី២ នឹងត្រូវធ្វើឡើងឯប្រទេសកាតា៕\"\n",
    "print('Segmention by LSTM: ', seg.segment(ts,model='lstm'))\n",
    "print('Segmention by CRF: ', seg.segment(ts,model='crf'))"
   ]
  }
 ],
 "metadata": {
  "accelerator": "GPU",
  "colab": {
   "authorship_tag": "ABX9TyMfKD8SDWCMowMgYSYYdEgf",
   "include_colab_link": true,
   "name": "Run on Colab.ipynb",
   "provenance": []
  },
  "kernelspec": {
   "display_name": "Python 3",
   "language": "python",
   "name": "python3"
  },
  "language_info": {
   "codemirror_mode": {
    "name": "ipython",
    "version": 3
   },
   "file_extension": ".py",
   "mimetype": "text/x-python",
   "name": "python",
   "nbconvert_exporter": "python",
   "pygments_lexer": "ipython3",
   "version": "3.6.9"
  }
 },
 "nbformat": 4,
 "nbformat_minor": 1
}
