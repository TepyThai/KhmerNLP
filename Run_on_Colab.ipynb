{
  "nbformat": 4,
  "nbformat_minor": 0,
  "metadata": {
    "colab": {
      "name": "Run on Colab.ipynb",
      "provenance": [],
      "authorship_tag": "ABX9TyNsWXIoKLUOH0+dvqDWiwlB",
      "include_colab_link": true
    },
    "kernelspec": {
      "name": "python3",
      "display_name": "Python 3"
    },
    "accelerator": "GPU"
  },
  "cells": [
    {
      "cell_type": "markdown",
      "metadata": {
        "id": "view-in-github",
        "colab_type": "text"
      },
      "source": [
        "<a href=\"https://colab.research.google.com/github/rinabuoy/KhmerNLP/blob/master/Run_on_Colab.ipynb\" target=\"_parent\"><img src=\"https://colab.research.google.com/assets/colab-badge.svg\" alt=\"Open In Colab\"/></a>"
      ]
    },
    {
      "cell_type": "code",
      "metadata": {
        "id": "jfJaMvXitusB",
        "colab_type": "code",
        "colab": {
          "base_uri": "https://localhost:8080/",
          "height": 134
        },
        "outputId": "2a50f7f6-da59-4123-fe8f-fa921d8f7b98"
      },
      "source": [
        "! git clone https://github.com/rinabuoy/KhmerNLP"
      ],
      "execution_count": 2,
      "outputs": [
        {
          "output_type": "stream",
          "text": [
            "Cloning into 'KhmerNLP'...\n",
            "remote: Enumerating objects: 158, done.\u001b[K\n",
            "remote: Counting objects:   0% (1/158)\u001b[K\rremote: Counting objects:   1% (2/158)\u001b[K\rremote: Counting objects:   2% (4/158)\u001b[K\rremote: Counting objects:   3% (5/158)\u001b[K\rremote: Counting objects:   4% (7/158)\u001b[K\rremote: Counting objects:   5% (8/158)\u001b[K\rremote: Counting objects:   6% (10/158)\u001b[K\rremote: Counting objects:   7% (12/158)\u001b[K\rremote: Counting objects:   8% (13/158)\u001b[K\rremote: Counting objects:   9% (15/158)\u001b[K\rremote: Counting objects:  10% (16/158)\u001b[K\rremote: Counting objects:  11% (18/158)\u001b[K\rremote: Counting objects:  12% (19/158)\u001b[K\rremote: Counting objects:  13% (21/158)\u001b[K\rremote: Counting objects:  14% (23/158)\u001b[K\rremote: Counting objects:  15% (24/158)\u001b[K\rremote: Counting objects:  16% (26/158)\u001b[K\rremote: Counting objects:  17% (27/158)\u001b[K\rremote: Counting objects:  18% (29/158)\u001b[K\rremote: Counting objects:  19% (31/158)\u001b[K\rremote: Counting objects:  20% (32/158)\u001b[K\rremote: Counting objects:  21% (34/158)\u001b[K\rremote: Counting objects:  22% (35/158)\u001b[K\rremote: Counting objects:  23% (37/158)\u001b[K\rremote: Counting objects:  24% (38/158)\u001b[K\rremote: Counting objects:  25% (40/158)\u001b[K\rremote: Counting objects:  26% (42/158)\u001b[K\rremote: Counting objects:  27% (43/158)\u001b[K\rremote: Counting objects:  28% (45/158)\u001b[K\rremote: Counting objects:  29% (46/158)\u001b[K\rremote: Counting objects:  30% (48/158)\u001b[K\rremote: Counting objects:  31% (49/158)\u001b[K\rremote: Counting objects:  32% (51/158)\u001b[K\rremote: Counting objects:  33% (53/158)\u001b[K\rremote: Counting objects:  34% (54/158)\u001b[K\rremote: Counting objects:  35% (56/158)\u001b[K\rremote: Counting objects:  36% (57/158)\u001b[K\rremote: Counting objects:  37% (59/158)\u001b[K\rremote: Counting objects:  38% (61/158)\u001b[K\rremote: Counting objects:  39% (62/158)\u001b[K\rremote: Counting objects:  40% (64/158)\u001b[K\rremote: Counting objects:  41% (65/158)\u001b[K\rremote: Counting objects:  42% (67/158)\u001b[K\rremote: Counting objects:  43% (68/158)\u001b[K\rremote: Counting objects:  44% (70/158)\u001b[K\rremote: Counting objects:  45% (72/158)\u001b[K\rremote: Counting objects:  46% (73/158)\u001b[K\rremote: Counting objects:  47% (75/158)\u001b[K\rremote: Counting objects:  48% (76/158)\u001b[K\rremote: Counting objects:  49% (78/158)\u001b[K\rremote: Counting objects:  50% (79/158)\u001b[K\rremote: Counting objects:  51% (81/158)\u001b[K\rremote: Counting objects:  52% (83/158)\u001b[K\rremote: Counting objects:  53% (84/158)\u001b[K\rremote: Counting objects:  54% (86/158)\u001b[K\rremote: Counting objects:  55% (87/158)\u001b[K\rremote: Counting objects:  56% (89/158)\u001b[K\rremote: Counting objects:  57% (91/158)\u001b[K\rremote: Counting objects:  58% (92/158)\u001b[K\rremote: Counting objects:  59% (94/158)\u001b[K\rremote: Counting objects:  60% (95/158)\u001b[K\rremote: Counting objects:  61% (97/158)\u001b[K\rremote: Counting objects:  62% (98/158)\u001b[K\rremote: Counting objects:  63% (100/158)\u001b[K\rremote: Counting objects:  64% (102/158)\u001b[K\rremote: Counting objects:  65% (103/158)\u001b[K\rremote: Counting objects:  66% (105/158)\u001b[K\rremote: Counting objects:  67% (106/158)\u001b[K\rremote: Counting objects:  68% (108/158)\u001b[K\rremote: Counting objects:  69% (110/158)\u001b[K\rremote: Counting objects:  70% (111/158)\u001b[K\rremote: Counting objects:  71% (113/158)\u001b[K\rremote: Counting objects:  72% (114/158)\u001b[K\rremote: Counting objects:  73% (116/158)\u001b[K\rremote: Counting objects:  74% (117/158)\u001b[K\rremote: Counting objects:  75% (119/158)\u001b[K\rremote: Counting objects:  76% (121/158)\u001b[K\rremote: Counting objects:  77% (122/158)\u001b[K\rremote: Counting objects:  78% (124/158)\u001b[K\rremote: Counting objects:  79% (125/158)\u001b[K\rremote: Counting objects:  80% (127/158)\u001b[K\rremote: Counting objects:  81% (128/158)\u001b[K\rremote: Counting objects:  82% (130/158)\u001b[K\rremote: Counting objects:  83% (132/158)\u001b[K\rremote: Counting objects:  84% (133/158)\u001b[K\rremote: Counting objects:  85% (135/158)\u001b[K\rremote: Counting objects:  86% (136/158)\u001b[K\rremote: Counting objects:  87% (138/158)\u001b[K\rremote: Counting objects:  88% (140/158)\u001b[K\rremote: Counting objects:  89% (141/158)\u001b[K\rremote: Counting objects:  90% (143/158)\u001b[K\rremote: Counting objects:  91% (144/158)\u001b[K\rremote: Counting objects:  92% (146/158)\u001b[K\rremote: Counting objects:  93% (147/158)\u001b[K\rremote: Counting objects:  94% (149/158)\u001b[K\rremote: Counting objects:  95% (151/158)\u001b[K\rremote: Counting objects:  96% (152/158)\u001b[K\rremote: Counting objects:  97% (154/158)\u001b[K\rremote: Counting objects:  98% (155/158)\u001b[K\rremote: Counting objects:  99% (157/158)\u001b[K\rremote: Counting objects: 100% (158/158)\u001b[K\rremote: Counting objects: 100% (158/158), done.\u001b[K\n",
            "remote: Compressing objects: 100% (129/129), done.\u001b[K\n",
            "remote: Total 158 (delta 57), reused 42 (delta 12), pack-reused 0\u001b[K\n",
            "Receiving objects: 100% (158/158), 344.57 KiB | 8.61 MiB/s, done.\n",
            "Resolving deltas: 100% (57/57), done.\n"
          ],
          "name": "stdout"
        }
      ]
    },
    {
      "cell_type": "code",
      "metadata": {
        "id": "yXermZhSuTvu",
        "colab_type": "code",
        "colab": {
          "base_uri": "https://localhost:8080/",
          "height": 34
        },
        "outputId": "4939205c-0262-4f60-ab73-708eb31ab6bb"
      },
      "source": [
        "%cd KhmerNLP"
      ],
      "execution_count": 3,
      "outputs": [
        {
          "output_type": "stream",
          "text": [
            "/content/KhmerNLP\n"
          ],
          "name": "stdout"
        }
      ]
    },
    {
      "cell_type": "code",
      "metadata": {
        "id": "T2n8DEaFnxfm",
        "colab_type": "code",
        "colab": {
          "base_uri": "https://localhost:8080/",
          "height": 168
        },
        "outputId": "8b02e18d-c31a-4488-976d-ff6888eeb8db"
      },
      "source": [
        "!pip install wget"
      ],
      "execution_count": 4,
      "outputs": [
        {
          "output_type": "stream",
          "text": [
            "Collecting wget\n",
            "  Downloading https://files.pythonhosted.org/packages/47/6a/62e288da7bcda82b935ff0c6cfe542970f04e29c756b0e147251b2fb251f/wget-3.2.zip\n",
            "Building wheels for collected packages: wget\n",
            "  Building wheel for wget (setup.py) ... \u001b[?25l\u001b[?25hdone\n",
            "  Created wheel for wget: filename=wget-3.2-cp36-none-any.whl size=9682 sha256=30a85c1307fed4dca41f4c55c0b396fa271ae3f6a082c8e5b262c59bffa39b92\n",
            "  Stored in directory: /root/.cache/pip/wheels/40/15/30/7d8f7cea2902b4db79e3fea550d7d7b85ecb27ef992b618f3f\n",
            "Successfully built wget\n",
            "Installing collected packages: wget\n",
            "Successfully installed wget-3.2\n"
          ],
          "name": "stdout"
        }
      ]
    },
    {
      "cell_type": "code",
      "metadata": {
        "id": "DelI0WVlu3YP",
        "colab_type": "code",
        "colab": {
          "base_uri": "https://localhost:8080/",
          "height": 50
        },
        "outputId": "6fc4e91f-0590-471c-d3e5-663701a9fada"
      },
      "source": [
        "from khmerwordsegmentor import  segment\n",
        "t = \"ចំណែកជើងទី២ នឹងត្រូវធ្វើឡើងឯប្រទេសកាតា៕\"\n",
        "print(segment(t,seg_sep = '-'))"
      ],
      "execution_count": 5,
      "outputs": [
        {
          "output_type": "stream",
          "text": [
            "Inference on GPU!\n",
            "ចំណែក-ជើង-ទី-២-នឹង-ត្រូវ-ធ្វើឡើង-ឯ-ប្រទេស-កាតា-៕\n"
          ],
          "name": "stdout"
        }
      ]
    }
  ]
}